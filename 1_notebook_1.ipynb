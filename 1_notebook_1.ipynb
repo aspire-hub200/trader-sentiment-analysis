{
  "cells": [
    {
      "cell_type": "markdown",
      "source": [
        "# 📊 Trader Behavior vs Market Sentiment\n",
        "\n",
        "This notebook explores the relationship between trader behavior and market sentiment using:\n",
        "- Bitcoin Fear & Greed Index\n",
        "- Simulated Hyperliquid trader data\n",
        "\n",
        "We'll analyze how emotions (fear/greed) align with trading patterns like PnL, leverage, and volume.\n"
      ],
      "metadata": {
        "id": "jBJB-y1H9Fmr"
      }
    },
    {
      "cell_type": "code",
      "source": [
        "import pandas as pd\n",
        "import matplotlib.pyplot as plt\n",
        "import seaborn as sns\n",
        "\n",
        "sns.set(style=\"whitegrid\")\n",
        "plt.rcParams['figure.figsize'] = (10, 5)\n",
        "fear_greed = pd.read_csv(\"fear_greed_index.csv\")\n",
        "trader_data = pd.read_csv(\"trader_data.csv\")\n",
        "\n",
        "fear_greed['date'] = pd.to_datetime(fear_greed['date'])\n",
        "trader_data['time'] = pd.to_datetime(trader_data['time'])\n",
        "\n",
        "trader_data['date'] = trader_data['time'].dt.date\n",
        "fear_greed['date'] = fear_greed['date'].dt.date\n",
        "\n",
        "merged_df = pd.merge(trader_data, fear_greed[['date', 'value', 'classification']], on='date', how='left')\n",
        "merged_df.dropna(inplace=True)\n",
        "\n",
        "merged_df.head()\n",
        "plt.plot(fear_greed['date'], fear_greed['value'], marker='o', linestyle='-')\n",
        "plt.title(\"Bitcoin Fear & Greed Index Over Time\")\n",
        "plt.xlabel(\"Date\")\n",
        "plt.ylabel(\"Index Value\")\n",
        "plt.xticks(rotation=45)\n",
        "plt.tight_layout()\n",
        "plt.show()\n",
        "# Distribution of PnL\n",
        "sns.histplot(merged_df['closedPnL'], bins=50, kde=True)\n",
        "plt.title(\"Distribution of Closed PnL\")\n",
        "plt.xlabel(\"Closed PnL\")\n",
        "plt.ylabel(\"Frequency\")\n",
        "plt.savefig(\"outputs/pnl_distribution.png\")\n",
        "plt.show()\n",
        "\n",
        "# PnL by Sentiment\n",
        "sns.boxplot(x='classification', y='closedPnL', data=merged_df)\n",
        "plt.title(\"PnL by Sentiment\")\n",
        "plt.savefig(\"outputs/pnl_by_sentiment.png\")\n",
        "plt.show()\n",
        "\n",
        "# Leverage by Sentiment\n",
        "sns.violinplot(x='classification', y='leverage', data=merged_df)\n",
        "plt.title(\"Leverage by Sentiment\")\n",
        "plt.savefig(\"outputs/leverage_by_sentiment.png\")\n",
        "plt.show()"
      ],
      "metadata": {
        "id": "48XI7ghTe0DX"
      },
      "execution_count": null,
      "outputs": []
    },
    {
      "cell_type": "code",
      "source": [
        "import os\n",
        "\n",
        "# Create the 'outputs' directory if it doesn't exist\n",
        "if not os.path.exists('outputs'):\n",
        "    os.makedirs('outputs')"
      ],
      "metadata": {
        "id": "xefZGQ1Ke6At"
      },
      "execution_count": null,
      "outputs": []
    }
  ],
  "metadata": {
    "kernelspec": {
      "display_name": "Python 3",
      "language": "python",
      "name": "python3"
    },
    "language_info": {
      "codemirror_mode": {
        "name": "ipython",
        "version": 3
      },
      "file_extension": ".py",
      "mimetype": "text/x-python",
      "name": "python",
      "nbconvert_exporter": "python",
      "pygments_lexer": "ipython3",
      "version": "3.8.0"
    },
    "colab": {
      "provenance": []
    }
  },
  "nbformat": 4,
  "nbformat_minor": 0
}